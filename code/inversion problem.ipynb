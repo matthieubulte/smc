{
 "cells": [
  {
   "cell_type": "code",
   "execution_count": 1,
   "metadata": {},
   "outputs": [],
   "source": [
    "using PyPlot\n",
    "\n",
    "@everywhere using Distributions\n",
    "@everywhere include(\"utils.jl\")\n",
    "@everywhere include(\"ode.jl\")\n",
    "@everywhere srand(42);"
   ]
  },
  {
   "cell_type": "code",
   "execution_count": 18,
   "metadata": {},
   "outputs": [
    {
     "name": "stderr",
     "output_type": "stream",
     "text": [
      "WARNING: Method definition noop(Any, Any) in module Main at In[16]:2 overwritten at In[18]:2.\n",
      "WARNING: Method definition SequentialMonteCarlo(Any, Any, Any) in module Main at In[16]:6 overwritten at In[18]:6.\n",
      "WARNING: Method definition #SequentialMonteCarlo(Array{Any, 1}, Main.#SequentialMonteCarlo, Any, Any, Any) in module Main overwritten.\n"
     ]
    }
   ],
   "source": [
    "@everywhere function noop(W,X) \n",
    "end\n",
    "\n",
    "@everywhere function SequentialMonteCarlo(X₀, p, γ; μ=0.1, progress=noop)\n",
    "    # initialization\n",
    "    N,d = size(X₀)\n",
    "    w = MvNormal(μ^2 * eye(d))\n",
    "\n",
    "    X = X₀\n",
    "    W = ones(N)/N\n",
    "    Wₙ = SharedArray{Float64}(N)\n",
    "    \n",
    "    progress(W,X)\n",
    "    \n",
    "    # sampling\n",
    "    for n = 1:p\n",
    "        X += rand(w, N)'\n",
    "        \n",
    "        # resampling\n",
    "        if 1 / vecdot(W,W) < N/2\n",
    "            X = X[rand(Categorical(W), N), :]\n",
    "            W = ones(N)/N\n",
    "        end\n",
    "\n",
    "        @sync @parallel for i=1:N\n",
    "            Wₙ[i] = γ(n, X[i,:])\n",
    "        end\n",
    "        \n",
    "        W = W.*Wₙ / vecdot(W, Wₙ)\n",
    "        progress(W,X)\n",
    "    end\n",
    "    \n",
    "    W,X\n",
    "end"
   ]
  },
  {
   "cell_type": "code",
   "execution_count": 6,
   "metadata": {},
   "outputs": [
    {
     "name": "stderr",
     "output_type": "stream",
     "text": [
      "WARNING: Method definition simulate(Any, Any, Any) in module Main at In[4]:2 overwritten at In[6]:2.\n",
      "WARNING: Method definition #simulate(Array{Any, 1}, Main.#simulate, Any, Any, Any) in module Main overwritten.\n"
     ]
    }
   ],
   "source": [
    "@everywhere function simulate(n, g, b; Θ₀ = 5*pi/180, l = 7.4, τ = 0.01)\n",
    "    n_times = 0\n",
    "    times = zeros(n)\n",
    "\n",
    "    t = 0\n",
    "    Θ = [Θ₀, 0]\n",
    "    \n",
    "    function dΘ(Θ)\n",
    "        [Θ[2], -(Θ[2]*b + g*sin(Θ[1])/l)]\n",
    "    end\n",
    "    \n",
    "    while n_times < n\n",
    "        Θₙ = rk4(dΘ, Θ, τ)\n",
    "        \n",
    "        # if the angle has changed sign, we linearly approximate the intersection\n",
    "        # with 0\n",
    "        if Θ[1] * Θₙ[1] <= 0\n",
    "            t_intersect = t - τ*Θ[1]/(Θₙ[1] - Θ[1])\n",
    "            n_times += 1\n",
    "            times[n_times] = t_intersect\n",
    "        end\n",
    "        \n",
    "        Θ = Θₙ\n",
    "        t += τ\n",
    "    end\n",
    "    \n",
    "    times\n",
    "end"
   ]
  },
  {
   "cell_type": "code",
   "execution_count": 5,
   "metadata": {},
   "outputs": [
    {
     "data": {
      "text/plain": [
       "(::#72) (generic function with 1 method)"
      ]
     },
     "execution_count": 5,
     "metadata": {},
     "output_type": "execute_result"
    }
   ],
   "source": [
    "@everywhere measurements = open(readdlm,\"../data/original_data\")\n",
    "@everywhere measurements_mask = abs(sign(measurements))\n",
    "\n",
    "@everywhere n_measurements = size(measurements)[1]\n",
    "@everywhere max_intersects = size(measurements)[2]\n",
    "\n",
    "prior = dunif(5, 15)\n",
    "\n",
    "likelihood = m ->\n",
    "    let\n",
    "        d = dnorm(0, 1)\n",
    "        t = simulate(max_intersects, m[1], 0.4, τ=0.1)\n",
    "        exp(sumoveri(i -> sum(log.(d.(measurements_mask[i,:] .* (measurements[i,:] - t)))), n_measurements))\n",
    "    end\n",
    "\n",
    "unnormalized_posterior = m ->\n",
    "    let\n",
    "        p = prior(m[1])\n",
    "        p > 0 ? p*likelihood(m) : 0\n",
    "    end\n",
    "\n",
    "#samples, n_accepted = MetropolisHastings(10000, unnormalized_posterior, 0.1, rand(1)*10 + 5)"
   ]
  },
  {
   "cell_type": "code",
   "execution_count": 52,
   "metadata": {},
   "outputs": [],
   "source": [
    "@everywhere τs = [1 0.5 0.1 0.05 0.01]\n",
    "\n",
    "likelihood₁ = (n, m) ->\n",
    "    let\n",
    "        d = dnorm(0, 1)\n",
    "        t = simulate(max_intersects, m[1], 0.4, τ=τs[n])    \n",
    "        exp(sumoveri(i -> sum(log.(d.(measurements_mask[i,:] .* (measurements[i,:] - t)))), n_measurements))\n",
    "    end\n",
    "\n",
    "W,X = SequentialMonteCarlo(rand(1000,1)*10+5, length(τs), likelihood₁);"
   ]
  },
  {
   "cell_type": "code",
   "execution_count": 54,
   "metadata": {},
   "outputs": [],
   "source": [
    "pygui(true)\n",
    "ion()\n",
    "\n",
    "progress = d -> (W, X) ->\n",
    "    let\n",
    "        Y = round.(X/d)\n",
    "        mini = minimum(Y)\n",
    "        \n",
    "        n = convert(Int32,maximum(Y) - mini + 1)\n",
    "        ws = zeros(n)\n",
    "        \n",
    "        for i=1:length(W)\n",
    "            ws[convert(Int32,Y[i]-mini+1)]+=W[i]\n",
    "        end\n",
    "\n",
    "        maxW = maximum(ws)\n",
    "        g = vecdot(W,X)    \n",
    "\n",
    "        clf()\n",
    "        title(\"$( g )\")\n",
    "        ylim(0,maxW*1.1)\n",
    "        xlim(5,15)\n",
    "        \n",
    "        bar((collect(1:n) + mini - 1)*d, ws, width=d)\n",
    "    \n",
    "        plot([g; g], [0; maxW*1.1], c=\"red\")\n",
    "        sleep(0.5)   \n",
    "    end\n",
    "\n",
    "W,X = SequentialMonteCarlo(rand(5000,1)*10+5, length(τs), likelihood₁, progress=progress(0.1));"
   ]
  }
 ],
 "metadata": {
  "kernelspec": {
   "display_name": "Julia 0.5.1 --p auto",
   "language": "julia",
   "name": "julia-0.5-p-auto"
  },
  "language_info": {
   "file_extension": ".jl",
   "mimetype": "application/julia",
   "name": "julia",
   "version": "0.5.1"
  }
 },
 "nbformat": 4,
 "nbformat_minor": 2
}
