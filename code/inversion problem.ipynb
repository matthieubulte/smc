{
 "cells": [
  {
   "cell_type": "code",
   "execution_count": 5,
   "metadata": {
    "collapsed": true
   },
   "outputs": [],
   "source": [
    "using PyPlot\n",
    "using Distributions\n",
    "\n",
    "include(\"utils.jl\")\n",
    "include(\"ode.jl\")\n",
    "\n",
    "srand(42);"
   ]
  },
  {
   "cell_type": "code",
   "execution_count": 6,
   "metadata": {},
   "outputs": [
    {
     "data": {
      "text/plain": [
       "simulate (generic function with 1 method)"
      ]
     },
     "execution_count": 6,
     "metadata": {},
     "output_type": "execute_result"
    }
   ],
   "source": [
    "# Simulate calculates the n time measurements at which the pendulum take\n",
    "# a null angle for a given gravitational constant \n",
    "function simulate(n, g; Θ₀ = 5*pi/180, l = 7.4, τ = 0.01)\n",
    "    n_times = 0\n",
    "    times = zeros(n)\n",
    "\n",
    "    t = 0\n",
    "    \n",
    "    Θ = [Θ₀, 0]\n",
    "    dΘ = Θ -> [Θ[2], -(Θ[2]/2 + g*sin(Θ[1])/l)]\n",
    "    \n",
    "    while n_times < n\n",
    "        Θₙ = rk4(dΘ, Θ, τ)\n",
    "        \n",
    "        # if the angle has changed sign, we linearly approximate the intersection\n",
    "        # with 0\n",
    "        if Θ[1] * Θₙ[1] <= 0\n",
    "            t_intersect = t - τ*Θ[1]/(Θₙ[1] - Θ[1])\n",
    "            n_times += 1\n",
    "            times[n_times] = t_intersect\n",
    "        end\n",
    "        \n",
    "        Θ = Θₙ\n",
    "        t += τ\n",
    "    end\n",
    "    \n",
    "    times\n",
    "end"
   ]
  },
  {
   "cell_type": "code",
   "execution_count": 7,
   "metadata": {
    "collapsed": true
   },
   "outputs": [],
   "source": [
    "function MetropolisHastings(K, Π, γ, x₀)\n",
    "    X = zeros(K, length(x₀))\n",
    "    w = MvNormal(γ^2*eye(length(x₀)))\n",
    "    x = x₀\n",
    "    πₓ = Π(x)\n",
    "    accepted = 0\n",
    "    for k=1:K\n",
    "        y = x + rand(w)\n",
    "        πₙ = Π(y)\n",
    "        if rand() < min(1, πₙ / πₓ)\n",
    "            x = y\n",
    "            πₓ = πₙ\n",
    "            accepted += 1\n",
    "        end\n",
    "        X[k,:] = x\n",
    "    end\n",
    "    X, accepted\n",
    "end;"
   ]
  },
  {
   "cell_type": "code",
   "execution_count": 13,
   "metadata": {},
   "outputs": [
    {
     "data": {
      "text/plain": [
       "(\n",
       "[10.1654; 10.1418; … ; 9.64515; 9.64515],\n",
       "\n",
       "5246)"
      ]
     },
     "execution_count": 13,
     "metadata": {},
     "output_type": "execute_result"
    }
   ],
   "source": [
    "measurements = open(readdlm,\"../data/original_data\")\n",
    "measurements_mask = abs(sign(measurements))\n",
    "\n",
    "n_measurements = size(measurements)[1]\n",
    "max_intersects = size(measurements)[2]\n",
    "\n",
    "prior = dunif(5, 15)\n",
    "likelihood = g ->\n",
    "    let\n",
    "        d = dnorm(0, 1)\n",
    "        t = simulate(max_intersects, g)\n",
    "        exp(sumoveri(i -> sum(log.(d.(measurements_mask[i,:] .* (measurements[i,:] - t)))), n_measurements))\n",
    "    end\n",
    "unnormalized_posterior = m -> prior(m[1])*likelihood(m[1])\n",
    "\n",
    "samples, n_accepted = MetropolisHastings(10000, unnormalized_posterior, 0.1, rand(1)*10 + 5)"
   ]
  },
  {
   "cell_type": "code",
   "execution_count": 14,
   "metadata": {},
   "outputs": [
    {
     "data": {
      "image/png": "[encoded data removed]",
      "text/plain": [
       "PyPlot.Figure(PyObject <matplotlib.figure.Figure object at 0x7f816da09d90>)"
      ]
     },
     "metadata": {},
     "output_type": "display_data"
    },
    {
     "data": {
      "text/plain": [
       "9.608477236276263"
      ]
     },
     "execution_count": 14,
     "metadata": {},
     "output_type": "execute_result"
    }
   ],
   "source": [
    "PyPlot.plt[:hist](samples[:,1], 40);\n",
    "mean(samples[:,1])"
   ]
  }
 ],
 "metadata": {
  "kernelspec": {
   "display_name": "Julia 0.5.1",
   "language": "julia",
   "name": "julia-0.5"
  },
  "language_info": {
   "file_extension": ".jl",
   "mimetype": "application/julia",
   "name": "julia",
   "version": "0.5.1"
  }
 },
 "nbformat": 4,
 "nbformat_minor": 2
}
