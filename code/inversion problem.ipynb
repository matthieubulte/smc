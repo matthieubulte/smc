{
 "cells": [
  {
   "cell_type": "code",
   "execution_count": 1,
   "metadata": {},
   "outputs": [],
   "source": [
    "using PyPlot\n",
    "using Distributions\n",
    "\n",
    "include(\"utils.jl\")\n",
    "include(\"ode.jl\")\n",
    "\n",
    "srand(42);"
   ]
  },
  {
   "cell_type": "code",
   "execution_count": 3,
   "metadata": {},
   "outputs": [
    {
     "data": {
      "text/plain": [
       "SequentialMonteCarlo (generic function with 1 method)"
      ]
     },
     "execution_count": 3,
     "metadata": {},
     "output_type": "execute_result"
    }
   ],
   "source": [
    "function SequentialMonteCarlo(X₀, p, γ; μ=0.1)\n",
    "    # initialization\n",
    "    N,d = size(X₀)\n",
    "    w = MvNormal(μ^2 * eye(d))\n",
    "\n",
    "    X = X₀\n",
    "    W = ones(N)/N\n",
    "    Wₙ = SharedArray{Float64}(N)\n",
    "    \n",
    "    \n",
    "    # sampling\n",
    "    for n = 1:p\n",
    "        X += rand(w, N)'\n",
    "        \n",
    "        # resampling\n",
    "        if 1 / vecdot(W,W) < N/2\n",
    "            X = X[rand(Categorical(W), N), :]\n",
    "            W = ones(N)/N\n",
    "        end\n",
    "\n",
    "        @sync @parallel for i=1:N\n",
    "            Wₙ[i] = γ(n, X[i,:])\n",
    "        end\n",
    "        #Wₙ = [ γ(n, X[i,:]) for i in 1:N]    \n",
    "        W = W.*Wₙ / vecdot(W, Wₙ)\n",
    "    end\n",
    "    \n",
    "    W,X\n",
    "end"
   ]
  },
  {
   "cell_type": "code",
   "execution_count": 4,
   "metadata": {},
   "outputs": [
    {
     "data": {
      "text/plain": [
       "simulate (generic function with 1 method)"
      ]
     },
     "execution_count": 4,
     "metadata": {},
     "output_type": "execute_result"
    }
   ],
   "source": [
    "function simulate(n, g, b; Θ₀ = 5*pi/180, l = 7.4, τ = 0.01)\n",
    "    n_times = 0\n",
    "    times = zeros(n)\n",
    "\n",
    "    t = 0\n",
    "    Θ = [Θ₀, 0]\n",
    "    \n",
    "    function dΘ(Θ)\n",
    "        [Θ[2], -(Θ[2]*b + g*sin(Θ[1])/l)]\n",
    "    end\n",
    "    \n",
    "    while n_times < n\n",
    "        Θₙ = rk4(dΘ, Θ, τ)\n",
    "        \n",
    "        # if the angle has changed sign, we linearly approximate the intersection\n",
    "        # with 0\n",
    "        if Θ[1] * Θₙ[1] <= 0\n",
    "            t_intersect = t - τ*Θ[1]/(Θₙ[1] - Θ[1])\n",
    "            n_times += 1\n",
    "            times[n_times] = t_intersect\n",
    "        end\n",
    "        \n",
    "        Θ = Θₙ\n",
    "        t += τ\n",
    "    end\n",
    "    \n",
    "    times\n",
    "end"
   ]
  },
  {
   "cell_type": "code",
   "execution_count": 5,
   "metadata": {},
   "outputs": [
    {
     "data": {
      "text/plain": [
       "(::#26) (generic function with 1 method)"
      ]
     },
     "execution_count": 5,
     "metadata": {},
     "output_type": "execute_result"
    }
   ],
   "source": [
    "measurements = open(readdlm,\"../data/original_data\")\n",
    "measurements_mask = abs(sign(measurements))\n",
    "\n",
    "n_measurements = size(measurements)[1]\n",
    "max_intersects = size(measurements)[2]\n",
    "\n",
    "prior = dunif(5, 15)\n",
    "\n",
    "likelihood = m ->\n",
    "    let\n",
    "        d = dnorm(0, 1)\n",
    "        t = simulate(max_intersects, m[1], 0.4, τ=0.1)\n",
    "        exp(sumoveri(i -> sum(log.(d.(measurements_mask[i,:] .* (measurements[i,:] - t)))), n_measurements))\n",
    "    end\n",
    "\n",
    "unnormalized_posterior = m ->\n",
    "    let\n",
    "        p = prior(m[1])\n",
    "        p > 0 ? p*likelihood(m) : 0\n",
    "    end\n",
    "\n",
    "#samples, n_accepted = MetropolisHastings(10000, unnormalized_posterior, 0.1, rand(1)*10 + 5)"
   ]
  },
  {
   "cell_type": "code",
   "execution_count": 6,
   "metadata": {},
   "outputs": [
    {
     "ename": "LoadError",
     "evalue": "On worker 2:\nUndefVarError: dnorm not defined\n in #28 at ./In[6]:5\n in macro expansion at ./In[3]:22 [inlined]\n in #15 at ./multi.jl:2039\n in #691 at ./multi.jl:1904\n in #642 at ./multi.jl:1417\n in run_work_thunk at ./multi.jl:1001\n in run_work_thunk at ./multi.jl:1010 [inlined]\n in #617 at ./event.jl:68",
     "output_type": "error",
     "traceback": [
      "On worker 2:\nUndefVarError: dnorm not defined\n in #28 at ./In[6]:5\n in macro expansion at ./In[3]:22 [inlined]\n in #15 at ./multi.jl:2039\n in #691 at ./multi.jl:1904\n in #642 at ./multi.jl:1417\n in run_work_thunk at ./multi.jl:1001\n in run_work_thunk at ./multi.jl:1010 [inlined]\n in #617 at ./event.jl:68",
      "",
      " in #remotecall_fetch#626(::Array{Any,1}, ::Function, ::Function, ::Base.Worker, ::Base.RRID, ::Vararg{Any,N}) at ./multi.jl:1070",
      " in remotecall_fetch(::Function, ::Base.Worker, ::Base.RRID, ::Vararg{Any,N}) at ./multi.jl:1062",
      " in wait(::Future) at ./multi.jl:1145",
      " in macro expansion at ./task.jl:327 [inlined]",
      " in #SequentialMonteCarlo#13(::Float64, ::Function, ::Array{Float64,2}, ::Int64, ::##28#31) at ./In[3]:21",
      " in SequentialMonteCarlo(::Array{Float64,2}, ::Int64, ::Function) at ./In[3]:3"
     ]
    }
   ],
   "source": [
    "τs = [1 0.5 0.1 0.05 0.01]\n",
    "\n",
    "likelihood₁ = (n, m) ->\n",
    "    let\n",
    "        d = dnorm(0, 1)\n",
    "        t = simulate(max_intersects, m[1], 0.4, τ=τs[n])    \n",
    "        exp(sumoveri(i -> sum(log.(d.(measurements_mask[i,:] .* (measurements[i,:] - t)))), n_measurements))\n",
    "    end\n",
    "\n",
    "W,X = SequentialMonteCarlo(rand(1000,1)*10+5, length(τs), likelihood₁)\n",
    "\n",
    "vecdot(W,X)"
   ]
  },
  {
   "cell_type": "code",
   "execution_count": null,
   "metadata": {
    "collapsed": true
   },
   "outputs": [],
   "source": [
    "progress = (W, X) ->\n",
    "    let\n",
    "        \n",
    "        Y = round.(X*10)\n",
    "        mini = minimum(Y)\n",
    "        n = convert(Int32,maximum(Y) - mini + 1)\n",
    "        ws = zeros(n)\n",
    "        \n",
    "        for i=1:1000\n",
    "            ws[convert(Int32,Y[i]-mini+1)]+=W[i]\n",
    "        end\n",
    "\n",
    "        clf()\n",
    "        \n",
    "        ylim(0,maximum(W)*1.1)\n",
    "        xlim(5,15)\n",
    "        scatter(X, W, s=1, alpha=0.8)\n",
    "        \n",
    "        sleep(0.5)\n",
    "        \n",
    "    end"
   ]
  },
  {
   "cell_type": "code",
   "execution_count": 88,
   "metadata": {},
   "outputs": [
    {
     "data": {
      "image/png": "[encoded data removed]",
      "text/plain": [
       "PyPlot.Figure(PyObject <matplotlib.figure.Figure object at 0x7f7084a24590>)"
      ]
     },
     "metadata": {},
     "output_type": "display_data"
    },
    {
     "data": {
      "text/plain": [
       "9.422434147250133"
      ]
     },
     "execution_count": 88,
     "metadata": {},
     "output_type": "execute_result"
    }
   ],
   "source": [
    "PyPlot.plt[:hist](samples[:,1], 40);\n",
    "mean(samples[:,1])"
   ]
  },
  {
   "cell_type": "code",
   "execution_count": 12,
   "metadata": {
    "collapsed": true
   },
   "outputs": [],
   "source": [
    "function MetropolisHastings(K, Π, γ, x₀)\n",
    "    X = zeros(K, length(x₀))\n",
    "    w = MvNormal(γ^2*eye(length(x₀)))\n",
    "    x = x₀\n",
    "    πₓ = Π(x)\n",
    "    accepted = 0\n",
    "    for k=1:K\n",
    "        y = x + rand(w)\n",
    "        πₙ = Π(y)\n",
    "        if rand() < min(1, πₙ / πₓ)\n",
    "            x = y\n",
    "            πₓ = πₙ\n",
    "            accepted += 1\n",
    "        end\n",
    "        X[k,:] = x\n",
    "    end\n",
    "    X, accepted\n",
    "end;"
   ]
  }
 ],
 "metadata": {
  "kernelspec": {
   "display_name": "Julia 0.5.1 --p auto",
   "language": "julia",
   "name": "julia-0.5-p-auto"
  },
  "language_info": {
   "file_extension": ".jl",
   "mimetype": "application/julia",
   "name": "julia",
   "version": "0.5.1"
  }
 },
 "nbformat": 4,
 "nbformat_minor": 2
}
