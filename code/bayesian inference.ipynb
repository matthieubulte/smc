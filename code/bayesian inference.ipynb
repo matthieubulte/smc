{
 "cells": [
  {
   "cell_type": "code",
   "execution_count": 1,
   "metadata": {
    "collapsed": true
   },
   "outputs": [],
   "source": [
    "using PyPlot\n",
    "using Distributions\n",
    "\n",
    "include(\"utils.jl\")\n",
    "include(\"ode.jl\")\n",
    "\n",
    "srand(42);"
   ]
  },
  {
   "cell_type": "code",
   "execution_count": 6,
   "metadata": {},
   "outputs": [
    {
     "data": {
      "text/plain": [
       "(\n",
       "[0.50067 5.35601; 0.51316 5.34497; … ; 0.718836 13.0479; 0.917411 12.9921],\n",
       "\n",
       "8310)"
      ]
     },
     "execution_count": 6,
     "metadata": {},
     "output_type": "execute_result"
    }
   ],
   "source": [
    "zero_angle_times = sort(open(readdlm,\"flatdata\")[:])\n",
    "l = 7.4; t = [0; zero_angle_times]\n",
    "\n",
    "dΘ = m -> Θ -> [Θ[2], -(m[1]*Θ[2] + m[2]*sin(Θ[1])/l)]\n",
    "#0.51\n",
    "B = zeros(length(t), 2)\n",
    "rB = 1:length(t)\n",
    "\n",
    "prior = dunif2([0 1; 5 15])\n",
    "likelihood = m ->\n",
    "    let\n",
    "        d = dnorm(0, 1)\n",
    "        rk4s!(B, dΘ(m), [5*pi/180, 0], t, 0.01)\n",
    "        exp(foldi((i, acc) -> acc + log(d(exp(t[i]/4) * B[i,1])), 0, rB))\n",
    "    end\n",
    "\n",
    "unnormalized_posterior = m -> prior(m)*likelihood(m)\n",
    "\n",
    "samples, n_accepted = MetropolisHastings(10000, unnormalized_posterior, 0.1, rand(2).*[1; 10] + [0; 5])"
   ]
  },
  {
   "cell_type": "code",
   "execution_count": 10,
   "metadata": {},
   "outputs": [
    {
     "data": {
      "image/png": "[encoded data removed]",
      "text/plain": [
       "PyPlot.Figure(PyObject <matplotlib.figure.Figure object at 0x7fec6ea94e50>)"
      ]
     },
     "metadata": {},
     "output_type": "display_data"
    },
    {
     "data": {
      "text/plain": [
       "0.754917880568764"
      ]
     },
     "execution_count": 10,
     "metadata": {},
     "output_type": "execute_result"
    }
   ],
   "source": [
    "PyPlot.plt[:hist](samples[:,2], 40);\n",
    "mean(samples[:,1])"
   ]
  },
  {
   "cell_type": "code",
   "execution_count": null,
   "metadata": {
    "collapsed": true
   },
   "outputs": [],
   "source": [
    "# The goal of this notebook will be to evaluate & implement different algorithms to\n",
    "# estimate the parameters of a (very simple) linear model from noisy data.\n",
    "#\n",
    "# I'm writting this notebook while reading [1] and trying to follow the modeling approached presented\n",
    "# there.\n",
    "#\n",
    "# [1] Estimating Parameters in Physical Models through Bayesian Inversion: A Complete Example\n",
    "\n",
    "# The first step is to define our parameter-dependent model function together \n",
    "# with the real parameter values we will try to estimate.\n",
    "model = m -> x -> m[1] * x + m[2];\n",
    "real_parameters = [ 1, 0 ];\n",
    "\n",
    "# The second step is to generate some *fake* observed data, uniformly sampling 'x' over [0, 10] values\n",
    "# and adding a (standard) normally distributed error.\n",
    "N = 20\n",
    "\n",
    "X = rand(N) * 10\n",
    "\n",
    "σ = 1\n",
    "observations = model(real_parameters).(X) + σ*randn(N)\n",
    "\n",
    "plot([0,10], model(real_parameters).([0,10]), c=\"red\", linewidth=0.5, label=\"Real model\")\n",
    "scatter(X, observations, s=1, alpha=0.8, label=\"Measured values\")\n",
    "legend();"
   ]
  },
  {
   "cell_type": "code",
   "execution_count": null,
   "metadata": {
    "collapsed": true
   },
   "outputs": [],
   "source": [
    "# We now encode our prior knowledge into the probability density function for the parameters of our model.\n",
    "# Here, we will only use the knowledge that both of the parameters lie between -5 and 5 thus\n",
    "# translating into a uniform distribution over [-5, 5].\n",
    "# We also assume both parameters to be independently distributed.\n",
    "prior = dunif2([0 2; 0 2])\n",
    "\n",
    "# Modulo some normalization factors that we define later, this function evaluates for a given m\n",
    "# the pdf p(d|m).\n",
    "likelihood = m ->\n",
    "    let\n",
    "        f = model(m) # the materialized model for given parameters\n",
    "        d = dnorm(0, σ^2) # here, for sake of simplicity, we already know the variance σ^2 of the error\n",
    "\n",
    "        # as we assume observations are independent, we can evaluate p(d|m) = Πᵢ p(dᵢ|m)\n",
    "        exp(foldi((i, acc) -> acc + log(d(f(X[i]) - observations[i])), 1, 1:length(X)))\n",
    "    end\n",
    "\n",
    "# We can now define the posterior distribution of our model parameter as a normalized product of the\n",
    "# likelihood and the prio parameters distribution.\n",
    "to_m = (x,y) -> [x+1 y+1] # transform coordinates from [-1,1]^2 to our prior relevant area [0,2]x[-1, 1]\n",
    "k = 1/quad2((x, y) -> prior(to_m(x, y))*likelihood(to_m(x, y)))\n",
    "\n",
    "unnormalized_posterior = m -> prior(m)*likelihood(m)\n",
    "posterior = m -> k*unnormalized_posterior(m);"
   ]
  },
  {
   "cell_type": "markdown",
   "metadata": {},
   "source": [
    "### Quadrature"
   ]
  },
  {
   "cell_type": "code",
   "execution_count": null,
   "metadata": {
    "collapsed": true
   },
   "outputs": [],
   "source": [
    "# We can them estimate a value for our parameters by computing the expectation of the posterior using a 2d\n",
    "# gaussian quadrature of order 3 as described in [2].\n",
    "#\n",
    "# [2] http://math2.uncc.edu/~shaodeng/TEACHING/math5172/Lectures/Lect_15.PDF\n",
    "\n",
    "estimation = quad2((x,y) -> posterior(to_m(x,y)) * to_m(x,y))\n",
    "variance = quad2((x,y) -> posterior(to_m(x,y)) * (to_m(x,y) - estimation).^2 )\n",
    "\n",
    "println(\"a = \", estimation[1], \"\\t var ≈ 10^\", round(log10(variance[1])))\n",
    "println(\"b = \", estimation[2], \"\\t var ≈ 10^\", round(log10(variance[2])));"
   ]
  },
  {
   "cell_type": "markdown",
   "metadata": {},
   "source": [
    "### Markov Chain Monte Carlo"
   ]
  },
  {
   "cell_type": "code",
   "execution_count": 4,
   "metadata": {
    "collapsed": true
   },
   "outputs": [],
   "source": [
    "# Because of the curse of dimensionality, estimating the expectation and variance of the parameters\n",
    "# in high dimensional spaces will not be efficient anymore using deterministic (right word?) quadrature.\n",
    "# For this reason (and because it's fun), we will implement a Markov Chain Monte Carlo method to compute\n",
    "# our integrals of interest.\n",
    "\n",
    "# Here, we implement the Metropolis-Hastings algorithm as we can easily estimate the joint probability\n",
    "# (otherwise, Gibbs moves would be the way to go). This approach also allows us to pass the likelihood function\n",
    "# instead of the normalized joint probability of the parameter space.\n",
    "function MetropolisHastings(K, Π, γ, x₀)\n",
    "    X = zeros(K, length(x₀))\n",
    "    w = MvNormal(γ^2*eye(length(x₀)))\n",
    "    x = x₀\n",
    "    πₓ = Π(x)\n",
    "    accepted = 0\n",
    "    for k=1:K\n",
    "        y = x + rand(w)\n",
    "        πₙ = Π(y)\n",
    "        if rand() < min(1, πₙ / πₓ)\n",
    "            x = y\n",
    "            πₓ = πₙ\n",
    "            accepted += 1\n",
    "        end\n",
    "        X[k,:] = x\n",
    "    end\n",
    "    X, accepted\n",
    "end;"
   ]
  },
  {
   "cell_type": "code",
   "execution_count": null,
   "metadata": {
    "collapsed": true
   },
   "outputs": [],
   "source": [
    "# We can then compute the quantities of interest by drawing a large enough sample (how large is large enough?)\n",
    "# and average the function application of interest on the samples.\n",
    "samples, n_accepted = MetropolisHastings2D(10000, unnormalized_posterior, 0.1, rand(2))\n",
    "\n",
    "estimation = [ mean(samples[:,1]), mean(samples[:,2]) ]\n",
    "variance = [ mean((samples[:, 1] - estimation[1]).^2), mean((samples[:, 2] - estimation[2]).^2) ]\n",
    "\n",
    "println(\"a = \", estimation[1], \"\\tvar ≈ 10^\", round(log10(variance[1])))\n",
    "println(\"b = \", estimation[2], \"\\tvar ≈ 10^\", round(log10(variance[2])));"
   ]
  },
  {
   "cell_type": "code",
   "execution_count": null,
   "metadata": {
    "collapsed": true
   },
   "outputs": [],
   "source": [
    "# We can also plot the samples generated by the MCMC to visualize the exploration of\n",
    "# the parameter space.\n",
    "scatter(samples[:,1], samples[:,2], s=4, alpha=0.05);"
   ]
  },
  {
   "cell_type": "markdown",
   "metadata": {},
   "source": [
    "### Sequential Monte Carlo (with MCMC kernels)"
   ]
  }
 ],
 "metadata": {
  "kernelspec": {
   "display_name": "Julia 0.5.1",
   "language": "julia",
   "name": "julia-0.5"
  },
  "language_info": {
   "file_extension": ".jl",
   "mimetype": "application/julia",
   "name": "julia",
   "version": "0.5.1"
  }
 },
 "nbformat": 4,
 "nbformat_minor": 2
}
