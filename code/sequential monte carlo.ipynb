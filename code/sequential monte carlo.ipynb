{
 "cells": [
  {
   "cell_type": "code",
   "execution_count": 2,
   "metadata": {
    "collapsed": true
   },
   "outputs": [],
   "source": [
    "using Distributions\n",
    "using PyPlot\n",
    "include(\"utils.jl\")\n",
    "\n",
    "srand(42);"
   ]
  },
  {
   "cell_type": "code",
   "execution_count": 3,
   "metadata": {},
   "outputs": [
    {
     "data": {
      "text/plain": [
       "(::#13) (generic function with 1 method)"
      ]
     },
     "execution_count": 3,
     "metadata": {},
     "output_type": "execute_result"
    }
   ],
   "source": [
    "n = 1\n",
    "γ = 0.1\n",
    "σ = 1\n",
    "d = dnorm(0, σ^2)\n",
    "w = MvNormal(γ^2*eye(2))\n",
    "\n",
    "data = rand(100) * 10\n",
    "model = m -> x -> m[1] * x + m[2];\n",
    "real_parameters = [ 1, 1 ]\n",
    "observations = model(real_parameters).(data) + σ*randn(100);\n",
    "\n",
    "incremental_likelihood = (m, n) -> exp(sum(log.([ d(m(data[i]) - observations[i]) for i in 1:n ])))"
   ]
  },
  {
   "cell_type": "code",
   "execution_count": 7,
   "metadata": {},
   "outputs": [],
   "source": [
    "ion(); pygui(true);\n",
    "\n",
    "# initialization\n",
    "\n",
    "N = 100\n",
    "X = rand(N, 2)\n",
    "W = ones(N)/N\n",
    "\n",
    "scatter(X[:,1], X[:, 2], s=W*N*5)\n",
    "sleep(0.1)\n",
    "\n",
    "# sampling\n",
    "for n = 1:100\n",
    "    # resampling\n",
    "    if 1 / vecdot(W,W) < N/2\n",
    "        X = X[rand(Categorical(W), N), :]\n",
    "        W = ones(N)/N\n",
    "    end\n",
    "\n",
    "    Wₙ = [ incremental_likelihood(model(X[i,:]), n) for i in 1:N]\n",
    "    W = W.*Wₙ / vecdot(W, Wₙ)\n",
    "\n",
    "    X += rand(w, N)'\n",
    "\n",
    "    m = vecdot(W, X[:,1]), vecdot(W, X[:, 2])\n",
    "    clf()\n",
    "    xlim(0, 2)\n",
    "    ylim(0, 2)\n",
    "    title(\"θ ≈ $m\")\n",
    "    scatter(X[:,1], X[:, 2], s=W*N*3, alpha=0.8, c=\"black\")\n",
    "    scatter([m[1]], [m[2]], c=\"red\")\n",
    "    scatter([real_parameters[1]], [real_parameters[2]], c=\"green\")\n",
    "    sleep(0.1)\n",
    "end\n"
   ]
  },
  {
   "cell_type": "code",
   "execution_count": 8,
   "metadata": {},
   "outputs": [
    {
     "name": "stdout",
     "output_type": "stream",
     "text": [
      "100 ≈ (1.0246138266294476,0.878150285025453)\n",
      "500 ≈ (0.9864145143413657,0.9183016751355478)\n",
      "1000 ≈ (0.9998992076375581,0.8942803026115865)\n",
      "5000 ≈ (1.003313202578945,0.9034339793593547)\n",
      "10000 ≈ (1.0043169259479496,0.8939716489679784)\n"
     ]
    }
   ],
   "source": [
    "# initialization\n",
    "for N in [100; 500; 1000; 5000; 10000]\n",
    "    X = rand(N, 2)\n",
    "    W = ones(N)/N\n",
    "\n",
    "    # sampling\n",
    "    for n = 1:100\n",
    "        # resampling\n",
    "        if 1 / vecdot(W,W) < N/2\n",
    "            X = X[rand(Categorical(W), N), :]\n",
    "            W = ones(N)/N\n",
    "        end\n",
    "\n",
    "        Wₙ = [ incremental_likelihood(model(X[i,:]), n) for i in 1:N]\n",
    "        W = W.*Wₙ / vecdot(W, Wₙ)\n",
    "\n",
    "        X += rand(w, N)'\n",
    "     end\n",
    "    \n",
    "    m = vecdot(W, X[:,1]), vecdot(W, X[:, 2])\n",
    "    println(N, \" ≈ $m\")\n",
    "end"
   ]
  }
 ],
 "metadata": {
  "kernelspec": {
   "display_name": "Julia 0.5.1",
   "language": "julia",
   "name": "julia-0.5"
  },
  "language_info": {
   "file_extension": ".jl",
   "mimetype": "application/julia",
   "name": "julia",
   "version": "0.5.1"
  }
 },
 "nbformat": 4,
 "nbformat_minor": 2
}
